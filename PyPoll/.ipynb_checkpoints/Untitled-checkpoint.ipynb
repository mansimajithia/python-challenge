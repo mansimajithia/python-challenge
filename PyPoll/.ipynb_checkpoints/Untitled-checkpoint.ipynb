{
 "cells": [
  {
   "cell_type": "code",
   "execution_count": 67,
   "metadata": {},
   "outputs": [],
   "source": [
    "import os\n",
    "import csv"
   ]
  },
  {
   "cell_type": "code",
   "execution_count": 95,
   "metadata": {},
   "outputs": [],
   "source": [
    "csvpath = './Resources/election_data.csv'"
   ]
  },
  {
   "cell_type": "code",
   "execution_count": 96,
   "metadata": {},
   "outputs": [],
   "source": [
    "total_votes = 0\n",
    "total_candidates = 0\n",
    "candidates = []\n",
    "percent_received = []\n",
    "candidates_list = []\n",
    "votes_received_list = []\n",
    "candidate_index = []"
   ]
  },
  {
   "cell_type": "code",
   "execution_count": 98,
   "metadata": {},
   "outputs": [
    {
     "ename": "SyntaxError",
     "evalue": "can't assign to function call (<ipython-input-98-cd409ca5d494>, line 13)",
     "output_type": "error",
     "traceback": [
      "\u001b[0;36m  File \u001b[0;32m\"<ipython-input-98-cd409ca5d494>\"\u001b[0;36m, line \u001b[0;32m13\u001b[0m\n\u001b[0;31m    votes_received_list.index(candidates_index) = votes_received_list.index(candidates_index) + 1\u001b[0m\n\u001b[0m    ^\u001b[0m\n\u001b[0;31mSyntaxError\u001b[0m\u001b[0;31m:\u001b[0m can't assign to function call\n"
     ]
    }
   ],
   "source": [
    "with open(csvpath) as csvfile:\n",
    "    csvreader = csv.reader(csvfile, delimiter=',')\n",
    "    print(csvreader)\n",
    "    csvheader = next(csvreader)\n",
    "    print(f\"CSV Header: {csvheader}\")\n",
    "\n",
    "    #count votes\n",
    "    for row in csvreader:\n",
    "        total_votes += 1\n",
    "        candidate = row[2]\n",
    "        if candidate in candidates_list:\n",
    "            candidates_index = candidates_list.index(candidate)\n",
    "            votes_received_list.index(candidates_index) = votes_received_list.index(candidates_index) + 1\n",
    "        else:\n",
    "            candidates_list.append(candidate)\n",
    "print(total_votes)"
   ]
  },
  {
   "cell_type": "code",
   "execution_count": null,
   "metadata": {},
   "outputs": [],
   "source": []
  }
 ],
 "metadata": {
  "kernelspec": {
   "display_name": "Python 3",
   "language": "python",
   "name": "python3"
  }
 },
 "nbformat": 4,
 "nbformat_minor": 2
}
