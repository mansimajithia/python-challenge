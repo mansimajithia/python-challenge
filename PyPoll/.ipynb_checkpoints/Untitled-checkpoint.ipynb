{
 "cells": [
  {
   "cell_type": "code",
   "execution_count": 5,
   "metadata": {},
   "outputs": [],
   "source": [
    "import os\n",
    "import csv"
   ]
  },
  {
   "cell_type": "code",
   "execution_count": 6,
   "metadata": {},
   "outputs": [],
   "source": [
    "csvpath = './Resources/election_data.csv'"
   ]
  },
  {
   "cell_type": "code",
   "execution_count": 7,
   "metadata": {},
   "outputs": [],
   "source": [
    "total_votes = 0\n",
    "total_candidates = 0\n",
    "candidates = []\n",
    "percent_received = []\n",
    "candidates_list = []\n",
    "votes_received_list = []\n",
    "candidate_index = []"
   ]
  },
  {
   "cell_type": "code",
   "execution_count": 8,
   "metadata": {},
   "outputs": [
    {
     "name": "stdout",
     "output_type": "stream",
     "text": [
      "<_csv.reader object at 0x10dba60d0>\n",
      "CSV Header: ['Voter ID', 'County', 'Candidate']\n",
      "3521001\n",
      "['Khan', 'Correy', 'Li', \"O'Tooley\"]\n",
      "[2218231, 704200, 492940, 105630]\n"
     ]
    }
   ],
   "source": [
    "with open(csvpath) as csvfile:\n",
    "    csvreader = csv.reader(csvfile, delimiter=',')\n",
    "    print(csvreader)\n",
    "    csvheader = next(csvreader)\n",
    "    print(f\"CSV Header: {csvheader}\")\n",
    "\n",
    "    #count votes\n",
    "    for row in csvreader:\n",
    "        total_votes += 1\n",
    "        candidate = row[2]\n",
    "        if candidate in candidates_list:\n",
    "            candidates_index = candidates_list.index(candidate)\n",
    "            votes_received_list[candidates_index] += 1\n",
    "        else:\n",
    "            candidates_list.append(candidate)\n",
    "            votes_received_list.append(1)\n",
    "print(total_votes)\n",
    "print(candidates_list)\n",
    "print(votes_received_list)"
   ]
  },
  {
   "cell_type": "code",
   "execution_count": 11,
   "metadata": {},
   "outputs": [
    {
     "ename": "SyntaxError",
     "evalue": "invalid syntax (<ipython-input-11-f3c51ddd9c6a>, line 3)",
     "output_type": "error",
     "traceback": [
      "\u001b[0;36m  File \u001b[0;32m\"<ipython-input-11-f3c51ddd9c6a>\"\u001b[0;36m, line \u001b[0;32m3\u001b[0m\n\u001b[0;31m    print(candidate)\u001b[0m\n\u001b[0m        ^\u001b[0m\n\u001b[0;31mSyntaxError\u001b[0m\u001b[0;31m:\u001b[0m invalid syntax\n"
     ]
    }
   ],
   "source": [
    "for candidate in candidates_list:\n",
    "    percent = (int(votes_received_list/int(total_votes)*100)\n",
    "print(candidate)"
   ]
  },
  {
   "cell_type": "code",
   "execution_count": null,
   "metadata": {},
   "outputs": [],
   "source": []
  },
  {
   "cell_type": "code",
   "execution_count": null,
   "metadata": {},
   "outputs": [],
   "source": []
  }
 ],
 "metadata": {
  "kernelspec": {
   "display_name": "Python 3",
   "language": "python",
   "name": "python3"
  },
  "language_info": {
   "codemirror_mode": {
    "name": "ipython",
    "version": 3
   },
   "file_extension": ".py",
   "mimetype": "text/x-python",
   "name": "python",
   "nbconvert_exporter": "python",
   "pygments_lexer": "ipython3",
   "version": "3.7.4"
  }
 },
 "nbformat": 4,
 "nbformat_minor": 2
}
