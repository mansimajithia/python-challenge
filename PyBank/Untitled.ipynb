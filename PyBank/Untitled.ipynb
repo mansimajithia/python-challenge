{
 "cells": [
  {
   "cell_type": "code",
   "execution_count": 1,
   "metadata": {},
   "outputs": [],
   "source": [
    "#Modules\n",
    "import os\n",
    "import csv"
   ]
  },
  {
   "cell_type": "code",
   "execution_count": 2,
   "metadata": {},
   "outputs": [],
   "source": [
    "csvpath ='./Resources/budget_data.csv'"
   ]
  },
  {
   "cell_type": "code",
   "execution_count": 3,
   "metadata": {
    "scrolled": true
   },
   "outputs": [],
   "source": [
    "#Set Variables\n",
    "months = []\n",
    "total_revenue = []\n",
    "greatest_increase = 0\n",
    "greatest_decrease = 0\n",
    "revenue = 0\n",
    "previous_revenue = 0\n",
    "revenue_change = []\n",
    "row =[]"
   ]
  },
  {
   "cell_type": "code",
   "execution_count": 10,
   "metadata": {},
   "outputs": [
    {
     "name": "stdout",
     "output_type": "stream",
     "text": [
      "Feb-2012\n",
      "76765156\n",
      "172\n",
      "1926159\n",
      "-2196167\n",
      "Sep-2013\n",
      "3901.7383720930234\n"
     ]
    }
   ],
   "source": [
    "with open(csvpath) as csvfile:\n",
    "    csvreader = csv.reader(csvfile, delimiter=',')\n",
    "#     print(csvreader)\n",
    "    csv_header = next(csvreader)\n",
    "#     print(f\"CSV Header: {csv_header}\")\n",
    "    # Count Total # of months and total net amount\n",
    "#     previous_revenue = int(row[1])\n",
    "    for row in csvreader: \n",
    "        months.append(row[0])\n",
    "        total_revenue.append(int(row[1]))\n",
    "        monthly_rev_change = int(row[1])- previous_revenue\n",
    "        revenue_change.append(monthly_rev_change)\n",
    "        if (monthly_rev_change > greatest_increase):\n",
    "            greatest_increase_month = row [0]\n",
    "            greatest_increase = monthly_rev_change\n",
    "        elif (monthly_rev_change < greatest_decrease):\n",
    "            greatest_decrease_month = row [0]\n",
    "            greatest_decrease = monthly_rev_change\n",
    "        previous_revenue = int(row[1])\n",
    "print(greatest_increase_month)\n",
    "print(sum(total_revenue))\n",
    "final_total_revenue = (sum(total_revenue))\n",
    "total_months = len(months)\n",
    "total_revenue_change = sum(revenue_change)\n",
    "average = (total_revenue_change/total_months)\n",
    "print(total_months)\n",
    "print(greatest_increase)\n",
    "print(greatest_decrease)\n",
    "print(greatest_decrease_month)\n",
    "print(average)"
   ]
  },
  {
   "cell_type": "code",
   "execution_count": 17,
   "metadata": {},
   "outputs": [
    {
     "name": "stdout",
     "output_type": "stream",
     "text": [
      "Financial Analysis\n",
      "---------------------------\n",
      "Total Months: 172\n",
      "Total: $76765156\n",
      "Average Change: $3901.7383720930234\n",
      "Greatest Increase in Profits: Feb-2012 $(1926159)\n",
      "Greatest Decrease in Profits: Sep-2013 $(-2196167)\n"
     ]
    }
   ],
   "source": [
    "print(\"Financial Analysis\")\n",
    "print(\"---------------------------\")\n",
    "print(f\"Total Months: {total_months}\")\n",
    "print(f\"Total: ${final_total_revenue}\")\n",
    "print(f\"Average Change: ${average}\")\n",
    "print(f\"Greatest Increase in Profits: {greatest_increase_month} $({greatest_increase})\")\n",
    "print(f\"Greatest Decrease in Profits: {greatest_decrease_month} $({greatest_decrease})\")"
   ]
  },
  {
   "cell_type": "code",
   "execution_count": null,
   "metadata": {
    "scrolled": false
   },
   "outputs": [],
   "source": []
  },
  {
   "cell_type": "code",
   "execution_count": null,
   "metadata": {},
   "outputs": [],
   "source": []
  },
  {
   "cell_type": "code",
   "execution_count": null,
   "metadata": {},
   "outputs": [],
   "source": []
  }
 ],
 "metadata": {
  "kernelspec": {
   "display_name": "Python 3",
   "language": "python",
   "name": "python3"
  },
  "language_info": {
   "codemirror_mode": {
    "name": "ipython",
    "version": 3
   },
   "file_extension": ".py",
   "mimetype": "text/x-python",
   "name": "python",
   "nbconvert_exporter": "python",
   "pygments_lexer": "ipython3",
   "version": "3.7.4"
  }
 },
 "nbformat": 4,
 "nbformat_minor": 2
}
